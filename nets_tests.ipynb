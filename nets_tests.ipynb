{
 "cells": [
  {
   "cell_type": "markdown",
   "metadata": {},
   "source": [
    "# Lyrics to genres multi-label classification"
   ]
  },
  {
   "cell_type": "code",
   "execution_count": 134,
   "metadata": {},
   "outputs": [],
   "source": [
    "import pandas as pd\n",
    "import matplotlib.pyplot as plt\n",
    "import numpy as np\n",
    "import re\n",
    "from sklearn.model_selection import train_test_split\n",
    "\n",
    "import gensim.downloader as api\n",
    "from gensim.models import KeyedVectors\n",
    "import numpy as np\n",
    "import tensorflow as tf\n",
    "import keras.backend as tfb\n",
    "\n",
    "from tensorflow.keras.models import Sequential\n",
    "from tensorflow.keras.layers import Dense, Embedding, GlobalMaxPool1D, MaxPooling1D, Activation, Dropout, Conv1D\n",
    "import keras.backend as tfb\n",
    "from keras.utils.generic_utils import get_custom_objects\n",
    "from keras.layers import LSTM, Bidirectional, SpatialDropout1D\n",
    "from sklearn.metrics import multilabel_confusion_matrix\n",
    "\n",
    "from keras.utils.generic_utils import get_custom_objects"
   ]
  },
  {
   "cell_type": "code",
   "execution_count": 170,
   "metadata": {},
   "outputs": [],
   "source": [
    "POS_WEIGHT = 10  # multiplier for positive targets, needs to be tuned\n",
    "\n",
    "def weighted_binary_crossentropy(target, output):\n",
    "    \"\"\"\n",
    "    Weighted binary crossentropy between an output tensor\n",
    "    and a target tensor. POS_WEIGHT is used as a multiplier\n",
    "    for the positive targets.\n",
    "\n",
    "    Combination of the following functions:\n",
    "    * keras.losses.binary_crossentropy\n",
    "    * keras.backend.tensorflow_backend.binary_crossentropy\n",
    "    * tf.nn.weighted_cross_entropy_with_logits\n",
    "    \"\"\"\n",
    "    # transform back to logits\n",
    "    _epsilon = tfb._to_tensor(tfb.epsilon(), output.dtype.base_dtype)\n",
    "    output = tf.clip_by_value(output, _epsilon, 1 - _epsilon)\n",
    "    output = tf.math.log(output / (1 - output))\n",
    "    # compute weighted loss\n",
    "    target = tf.cast(target, tf.float32)\n",
    "    loss = tf.nn.weighted_cross_entropy_with_logits(labels=target,\n",
    "                                                    logits=output,\n",
    "                                                    pos_weight=POS_WEIGHT)\n",
    "    return tf.reduce_mean(loss, axis=-1)\n",
    "\n",
    "\n",
    "get_custom_objects().update({\"weighted_binary_crossentropy\": weighted_binary_crossentropy})\n",
    "\n",
    "def f1_score(y_true, y_logit):\n",
    "    \"\"\"\n",
    "    Calculate F1 score\n",
    "    y_true: true value\n",
    "    y_logit: predicted value\n",
    "    \"\"\"\n",
    "    true_positives = tfb.sum(tfb.round(tfb.clip(y_true * y_logit, 0, 1)))\n",
    "    possible_positives = tfb.sum(tfb.round(tfb.clip(y_true, 0, 1)))\n",
    "    recall = true_positives / (possible_positives + tfb.epsilon())\n",
    "    predicted_positives = tfb.sum(tfb.round(tfb.clip(y_logit, 0, 1)))\n",
    "    precision = true_positives / (predicted_positives + tfb.epsilon())\n",
    "    return (2 * precision * recall) / (precision + recall + tfb.epsilon())\n",
    "\n",
    "\n",
    "def set_labels(x):\n",
    "    labels = np.array([0 for i in range(len(unique_genres))])\n",
    "\n",
    "    for item in x.split(\",\"):\n",
    "        labels[list(unique_genres).index(item)] = 1\n",
    "    \n",
    "    return np.array(labels)\n",
    "\n",
    "def csv_to_train_val_data(path:str, split_rate = 0.15):\n",
    "    # read data\n",
    "    data = pd.read_csv(path)\n",
    "\n",
    "    # fix data\n",
    "    data[\"genre\"] = data[\"genre\"].apply(lambda x: x.replace(\"\\n\",\" \"))\n",
    "    data[\"labels\"] = data[\"genre\"].apply(lambda x: set_labels(x))\n",
    "\n",
    "    # data splitting\n",
    "    x_train, x_test, y_train, y_test = train_test_split(data[\"lyrics\"], data[\"labels\"], test_size=split_rate, shuffle=True)\n",
    "\n",
    "    y_train = np.stack(y_train.values).astype('float32')\n",
    "    y_test = np.stack(y_test.values).astype('float32')\n",
    "\n",
    "    # tokenize data\n",
    "    tokenizer = Tokenizer(lower=True, num_words=max_words)\n",
    "    tokenizer.fit_on_texts(list(x_train) + list(x_test))\n",
    "\n",
    "    x_train = tokenizer.texts_to_sequences(x_train)\n",
    "    x_test = tokenizer.texts_to_sequences(x_test)\n",
    "\n",
    "    x_train = pad_sequences(x_train, maxlen=maxlen)\n",
    "    x_test = pad_sequences(x_test, maxlen=maxlen)\n",
    "\n",
    "    print(f'X train shape: {x_train.shape}')\n",
    "    print(f'X test shape: {x_test.shape}')\n",
    "    print(f'Y train shape: {y_train.shape}')\n",
    "    print(f'Y test shape: {y_test.shape}')\n",
    "\n",
    "\n",
    "    return x_train, x_test, y_train, y_test\n",
    "\n",
    "def visualise_history(hist):\n",
    "    measures = ['loss', 'accuracy', 'f1_score']\n",
    "\n",
    "    fig, ax = plt.subplots(3, figsize= (12,12))\n",
    "    \n",
    "    for i, measure in enumerate(measures):\n",
    "        val_measure = 'val_' + measure\n",
    "        ax[i].plot(hist.history[measure])\n",
    "        ax[i].set_title(measure)\n",
    "        ax[i].plot(hist.history[val_measure])\n",
    "        ax[i].set_title(val_measure)\n",
    "        # ax[i].set_xlabel(\"Epochs\")\n",
    "        ax[i].set_ylabel(measure)\n",
    "    plt.xlabel('epochs')\n",
    "    plt.show()\n",
    "    \n",
    "\n",
    "def run_model(model_name, batch_size=64, epochs=5, optimizer='adam', loss='weighted_binary_crossentropy', verbose=1):\n",
    "    model = models_dict[model_name]\n",
    "    model.compile(optimizer=optimizer, \n",
    "            loss=loss, \n",
    "            metrics=['accuracy', f1_score, tf.keras.metrics.AUC()])\n",
    "    hist = model.fit(x_train, y_train, batch_size=batch_size, epochs=epochs, validation_data=(x_test, y_test), verbose=verbose)\n",
    "    \n",
    "    return hist, model\n",
    "        \n",
    "\n",
    "def create_confusion_matrix(model, threshold=0.75):\n",
    "    y_pred = model.predict(x_test)\n",
    "\n",
    "    y_pred[y_pred>threshold] = 1\n",
    "    y_pred[y_pred<=threshold] = 0\n",
    "\n",
    "\n",
    "    print(multilabel_confusion_matrix(y_test, y_pred))\n",
    "\n"
   ]
  },
  {
   "cell_type": "markdown",
   "metadata": {},
   "source": [
    "### STARTING PARAMETERS"
   ]
  },
  {
   "cell_type": "code",
   "execution_count": 93,
   "metadata": {},
   "outputs": [],
   "source": [
    "max_words = 30_000\n",
    "maxlen = 200\n",
    "output_dim = 64\n",
    "embedding_dim = 300"
   ]
  },
  {
   "cell_type": "markdown",
   "metadata": {},
   "source": [
    "### FASTTEXT LOAD"
   ]
  },
  {
   "cell_type": "code",
   "execution_count": 11,
   "metadata": {},
   "outputs": [],
   "source": [
    "fasttext = KeyedVectors.load_word2vec_format(r'wiki-news-300d-1M.vec', binary=False, encoding='utf8')\n"
   ]
  },
  {
   "cell_type": "markdown",
   "metadata": {},
   "source": [
    "### CREATE UNIQUE GENRES"
   ]
  },
  {
   "cell_type": "code",
   "execution_count": 100,
   "metadata": {},
   "outputs": [],
   "source": [
    "unique_genres = set()\n",
    "\n",
    "for row in data.genre:\n",
    "    for item in row.split(\",\"):\n",
    "        unique_genres.add(item)\n",
    "\n",
    "num_classes = len(unique_genres)"
   ]
  },
  {
   "cell_type": "markdown",
   "metadata": {},
   "source": [
    "### EMBEDDING"
   ]
  },
  {
   "cell_type": "code",
   "execution_count": 85,
   "metadata": {},
   "outputs": [],
   "source": [
    "vocab_size = len(tokenizer.word_index) + 1\n",
    "\n",
    "weight_matrix = np.zeros((vocab_size, embedding_dim))\n",
    "\n",
    "for word, i in tokenizer.word_index.items():\n",
    "    try:\n",
    "        embedding_vector = fasttext[word]\n",
    "        weight_matrix[i] = embedding_vector\n",
    "    except KeyError:\n",
    "        weight_matrix[i] = np.random.uniform(-5, 5, embedding_dim)               "
   ]
  },
  {
   "cell_type": "markdown",
   "metadata": {},
   "source": [
    "### LOAD DATA"
   ]
  },
  {
   "cell_type": "code",
   "execution_count": 103,
   "metadata": {},
   "outputs": [
    {
     "name": "stdout",
     "output_type": "stream",
     "text": [
      "X train shape: (70624, 200)\n",
      "X test shape: (12464, 200)\n",
      "Y train shape: (70624, 15)\n",
      "Y test shape: (12464, 15)\n"
     ]
    }
   ],
   "source": [
    "x_train, x_test, y_train, y_test = csv_to_train_val_data(path=r'data_cleaned/final_cleaned_labeled2.csv', split_rate=0.15)"
   ]
  },
  {
   "cell_type": "markdown",
   "metadata": {},
   "source": [
    "### DECLARE MODELS IN DICTIONARY"
   ]
  },
  {
   "cell_type": "code",
   "execution_count": 179,
   "metadata": {},
   "outputs": [],
   "source": [
    "models_dict = { \n",
    "    \"cnn1_emb\": Sequential([\n",
    "                    Embedding(input_dim=vocab_size, output_dim=embedding_dim, input_length=maxlen, weights=[weight_matrix], trainable=False),\n",
    "                    Conv1D(filters=128, kernel_size=3, activation='relu', kernel_regularizer='l1_l2'),\n",
    "                    MaxPooling1D(),\n",
    "                    Dropout(0.3),\n",
    "                    Conv1D(filters=128, kernel_size=3, activation='relu', kernel_regularizer='l1_l2'),\n",
    "                    GlobalMaxPool1D(),\n",
    "                    Dense(100, kernel_regularizer='l1_l2'),\n",
    "                    Dropout(0.5),\n",
    "                    Activation('relu'),\n",
    "                    Dense(num_classes, name=\"output\"),\n",
    "                    Activation('sigmoid'),\n",
    "                        ]),\n",
    "    \"lstm1_emb\": Sequential([\n",
    "                    \n",
    "                    Embedding(input_dim=vocab_size, output_dim=embedding_dim, input_length=maxlen, weights=[weight_matrix], trainable=False),\n",
    "                    SpatialDropout1D(0.3),\n",
    "                    Bidirectional(LSTM(units=256, return_sequences=True, activation='tanh', recurrent_activation='sigmoid', \n",
    "                                                recurrent_dropout=0.0, dropout=0.5, kernel_initializer='glorot_uniform'),\n",
    "                                            merge_mode='concat'),\n",
    "                    Bidirectional(LSTM(units=256, return_sequences=True, activation='tanh', recurrent_activation='sigmoid', \n",
    "                                                recurrent_dropout=0.0, dropout=0.5, kernel_initializer='glorot_uniform'),\n",
    "                                            merge_mode='concat'),\n",
    "                    Dropout(0.3),\n",
    "                    GlobalMaxPool1D(),\n",
    "                    Dense(num_classes),\n",
    "                    Activation('sigmoid')\n",
    "                            ])\n",
    "    \n",
    "}"
   ]
  },
  {
   "cell_type": "markdown",
   "metadata": {},
   "source": [
    "### RUNNING THE NETS"
   ]
  },
  {
   "cell_type": "code",
   "execution_count": 181,
   "metadata": {},
   "outputs": [
    {
     "name": "stdout",
     "output_type": "stream",
     "text": [
      "Epoch 1/30\n",
      "2207/2207 [==============================] - 124s 55ms/step - loss: 1.1768 - accuracy: 0.2017 - f1_score: 0.3096 - auc_33: 0.7548 - val_loss: 1.1674 - val_accuracy: 0.2018 - val_f1_score: 0.3128 - val_auc_33: 0.7697\n",
      "Epoch 2/30\n",
      "2207/2207 [==============================] - 121s 55ms/step - loss: 1.1386 - accuracy: 0.2150 - f1_score: 0.3220 - auc_33: 0.7734 - val_loss: 1.1230 - val_accuracy: 0.1923 - val_f1_score: 0.3333 - val_auc_33: 0.7898\n",
      "Epoch 3/30\n",
      "2207/2207 [==============================] - 121s 55ms/step - loss: 1.1171 - accuracy: 0.2266 - f1_score: 0.3303 - auc_33: 0.7842 - val_loss: 1.1129 - val_accuracy: 0.2333 - val_f1_score: 0.3259 - val_auc_33: 0.7951\n",
      "Epoch 4/30\n",
      "2207/2207 [==============================] - 119s 54ms/step - loss: 1.1000 - accuracy: 0.2305 - f1_score: 0.3371 - auc_33: 0.7924 - val_loss: 1.0836 - val_accuracy: 0.2239 - val_f1_score: 0.3422 - val_auc_33: 0.8077\n",
      "Epoch 5/30\n",
      "2207/2207 [==============================] - 121s 55ms/step - loss: 1.0829 - accuracy: 0.2452 - f1_score: 0.3446 - auc_33: 0.8004 - val_loss: 1.0744 - val_accuracy: 0.2322 - val_f1_score: 0.3427 - val_auc_33: 0.8107\n",
      "Epoch 6/30\n",
      "1696/2207 [======================>.......] - ETA: 26s - loss: 1.0727 - accuracy: 0.2431 - f1_score: 0.3482 - auc_33: 0.8050"
     ]
    },
    {
     "ename": "KeyboardInterrupt",
     "evalue": "",
     "output_type": "error",
     "traceback": [
      "\u001b[1;31m---------------------------------------------------------------------------\u001b[0m",
      "\u001b[1;31mKeyboardInterrupt\u001b[0m                         Traceback (most recent call last)",
      "\u001b[1;32mc:\\Users\\Adam\\Documents\\Studia\\Computational Intelligence\\lyrics-to-generes\\lyrics_to_genres.ipynb Cell 17'\u001b[0m in \u001b[0;36m<cell line: 1>\u001b[1;34m()\u001b[0m\n\u001b[1;32m----> <a href='vscode-notebook-cell:/c%3A/Users/Adam/Documents/Studia/Computational%20Intelligence/lyrics-to-generes/lyrics_to_genres.ipynb#ch0000117?line=0'>1</a>\u001b[0m hist, curr_model \u001b[39m=\u001b[39m run_model(\u001b[39m'\u001b[39;49m\u001b[39mlstm1_emb\u001b[39;49m\u001b[39m'\u001b[39;49m, batch_size\u001b[39m=\u001b[39;49m\u001b[39m32\u001b[39;49m, epochs\u001b[39m=\u001b[39;49m\u001b[39m30\u001b[39;49m, verbose\u001b[39m=\u001b[39;49m\u001b[39m1\u001b[39;49m)\n\u001b[0;32m      <a href='vscode-notebook-cell:/c%3A/Users/Adam/Documents/Studia/Computational%20Intelligence/lyrics-to-generes/lyrics_to_genres.ipynb#ch0000117?line=1'>2</a>\u001b[0m visualise_history(hist)\n",
      "\u001b[1;32mc:\\Users\\Adam\\Documents\\Studia\\Computational Intelligence\\lyrics-to-generes\\lyrics_to_genres.ipynb Cell 3'\u001b[0m in \u001b[0;36mrun_model\u001b[1;34m(model_name, batch_size, epochs, optimizer, loss, verbose)\u001b[0m\n\u001b[0;32m     <a href='vscode-notebook-cell:/c%3A/Users/Adam/Documents/Studia/Computational%20Intelligence/lyrics-to-generes/lyrics_to_genres.ipynb#ch0000105?line=97'>98</a>\u001b[0m model \u001b[39m=\u001b[39m models_dict[model_name]\n\u001b[0;32m     <a href='vscode-notebook-cell:/c%3A/Users/Adam/Documents/Studia/Computational%20Intelligence/lyrics-to-generes/lyrics_to_genres.ipynb#ch0000105?line=98'>99</a>\u001b[0m model\u001b[39m.\u001b[39mcompile(optimizer\u001b[39m=\u001b[39moptimizer, \n\u001b[0;32m    <a href='vscode-notebook-cell:/c%3A/Users/Adam/Documents/Studia/Computational%20Intelligence/lyrics-to-generes/lyrics_to_genres.ipynb#ch0000105?line=99'>100</a>\u001b[0m         loss\u001b[39m=\u001b[39mloss, \n\u001b[0;32m    <a href='vscode-notebook-cell:/c%3A/Users/Adam/Documents/Studia/Computational%20Intelligence/lyrics-to-generes/lyrics_to_genres.ipynb#ch0000105?line=100'>101</a>\u001b[0m         metrics\u001b[39m=\u001b[39m[\u001b[39m'\u001b[39m\u001b[39maccuracy\u001b[39m\u001b[39m'\u001b[39m, f1_score, tf\u001b[39m.\u001b[39mkeras\u001b[39m.\u001b[39mmetrics\u001b[39m.\u001b[39mAUC()])\n\u001b[1;32m--> <a href='vscode-notebook-cell:/c%3A/Users/Adam/Documents/Studia/Computational%20Intelligence/lyrics-to-generes/lyrics_to_genres.ipynb#ch0000105?line=101'>102</a>\u001b[0m hist \u001b[39m=\u001b[39m model\u001b[39m.\u001b[39;49mfit(x_train, y_train, batch_size\u001b[39m=\u001b[39;49mbatch_size, epochs\u001b[39m=\u001b[39;49mepochs, validation_data\u001b[39m=\u001b[39;49m(x_test, y_test), verbose\u001b[39m=\u001b[39;49mverbose)\n\u001b[0;32m    <a href='vscode-notebook-cell:/c%3A/Users/Adam/Documents/Studia/Computational%20Intelligence/lyrics-to-generes/lyrics_to_genres.ipynb#ch0000105?line=103'>104</a>\u001b[0m \u001b[39mreturn\u001b[39;00m hist, model\n",
      "File \u001b[1;32mc:\\Users\\Adam\\AppData\\Local\\Programs\\Python\\Python39\\lib\\site-packages\\keras\\utils\\traceback_utils.py:64\u001b[0m, in \u001b[0;36mfilter_traceback.<locals>.error_handler\u001b[1;34m(*args, **kwargs)\u001b[0m\n\u001b[0;32m     <a href='file:///c%3A/Users/Adam/AppData/Local/Programs/Python/Python39/lib/site-packages/keras/utils/traceback_utils.py?line=61'>62</a>\u001b[0m filtered_tb \u001b[39m=\u001b[39m \u001b[39mNone\u001b[39;00m\n\u001b[0;32m     <a href='file:///c%3A/Users/Adam/AppData/Local/Programs/Python/Python39/lib/site-packages/keras/utils/traceback_utils.py?line=62'>63</a>\u001b[0m \u001b[39mtry\u001b[39;00m:\n\u001b[1;32m---> <a href='file:///c%3A/Users/Adam/AppData/Local/Programs/Python/Python39/lib/site-packages/keras/utils/traceback_utils.py?line=63'>64</a>\u001b[0m   \u001b[39mreturn\u001b[39;00m fn(\u001b[39m*\u001b[39margs, \u001b[39m*\u001b[39m\u001b[39m*\u001b[39mkwargs)\n\u001b[0;32m     <a href='file:///c%3A/Users/Adam/AppData/Local/Programs/Python/Python39/lib/site-packages/keras/utils/traceback_utils.py?line=64'>65</a>\u001b[0m \u001b[39mexcept\u001b[39;00m \u001b[39mException\u001b[39;00m \u001b[39mas\u001b[39;00m e:  \u001b[39m# pylint: disable=broad-except\u001b[39;00m\n\u001b[0;32m     <a href='file:///c%3A/Users/Adam/AppData/Local/Programs/Python/Python39/lib/site-packages/keras/utils/traceback_utils.py?line=65'>66</a>\u001b[0m   filtered_tb \u001b[39m=\u001b[39m _process_traceback_frames(e\u001b[39m.\u001b[39m__traceback__)\n",
      "File \u001b[1;32mc:\\Users\\Adam\\AppData\\Local\\Programs\\Python\\Python39\\lib\\site-packages\\keras\\engine\\training.py:1384\u001b[0m, in \u001b[0;36mModel.fit\u001b[1;34m(self, x, y, batch_size, epochs, verbose, callbacks, validation_split, validation_data, shuffle, class_weight, sample_weight, initial_epoch, steps_per_epoch, validation_steps, validation_batch_size, validation_freq, max_queue_size, workers, use_multiprocessing)\u001b[0m\n\u001b[0;32m   <a href='file:///c%3A/Users/Adam/AppData/Local/Programs/Python/Python39/lib/site-packages/keras/engine/training.py?line=1376'>1377</a>\u001b[0m \u001b[39mwith\u001b[39;00m tf\u001b[39m.\u001b[39mprofiler\u001b[39m.\u001b[39mexperimental\u001b[39m.\u001b[39mTrace(\n\u001b[0;32m   <a href='file:///c%3A/Users/Adam/AppData/Local/Programs/Python/Python39/lib/site-packages/keras/engine/training.py?line=1377'>1378</a>\u001b[0m     \u001b[39m'\u001b[39m\u001b[39mtrain\u001b[39m\u001b[39m'\u001b[39m,\n\u001b[0;32m   <a href='file:///c%3A/Users/Adam/AppData/Local/Programs/Python/Python39/lib/site-packages/keras/engine/training.py?line=1378'>1379</a>\u001b[0m     epoch_num\u001b[39m=\u001b[39mepoch,\n\u001b[0;32m   <a href='file:///c%3A/Users/Adam/AppData/Local/Programs/Python/Python39/lib/site-packages/keras/engine/training.py?line=1379'>1380</a>\u001b[0m     step_num\u001b[39m=\u001b[39mstep,\n\u001b[0;32m   <a href='file:///c%3A/Users/Adam/AppData/Local/Programs/Python/Python39/lib/site-packages/keras/engine/training.py?line=1380'>1381</a>\u001b[0m     batch_size\u001b[39m=\u001b[39mbatch_size,\n\u001b[0;32m   <a href='file:///c%3A/Users/Adam/AppData/Local/Programs/Python/Python39/lib/site-packages/keras/engine/training.py?line=1381'>1382</a>\u001b[0m     _r\u001b[39m=\u001b[39m\u001b[39m1\u001b[39m):\n\u001b[0;32m   <a href='file:///c%3A/Users/Adam/AppData/Local/Programs/Python/Python39/lib/site-packages/keras/engine/training.py?line=1382'>1383</a>\u001b[0m   callbacks\u001b[39m.\u001b[39mon_train_batch_begin(step)\n\u001b[1;32m-> <a href='file:///c%3A/Users/Adam/AppData/Local/Programs/Python/Python39/lib/site-packages/keras/engine/training.py?line=1383'>1384</a>\u001b[0m   tmp_logs \u001b[39m=\u001b[39m \u001b[39mself\u001b[39;49m\u001b[39m.\u001b[39;49mtrain_function(iterator)\n\u001b[0;32m   <a href='file:///c%3A/Users/Adam/AppData/Local/Programs/Python/Python39/lib/site-packages/keras/engine/training.py?line=1384'>1385</a>\u001b[0m   \u001b[39mif\u001b[39;00m data_handler\u001b[39m.\u001b[39mshould_sync:\n\u001b[0;32m   <a href='file:///c%3A/Users/Adam/AppData/Local/Programs/Python/Python39/lib/site-packages/keras/engine/training.py?line=1385'>1386</a>\u001b[0m     context\u001b[39m.\u001b[39masync_wait()\n",
      "File \u001b[1;32mc:\\Users\\Adam\\AppData\\Local\\Programs\\Python\\Python39\\lib\\site-packages\\tensorflow\\python\\util\\traceback_utils.py:150\u001b[0m, in \u001b[0;36mfilter_traceback.<locals>.error_handler\u001b[1;34m(*args, **kwargs)\u001b[0m\n\u001b[0;32m    <a href='file:///c%3A/Users/Adam/AppData/Local/Programs/Python/Python39/lib/site-packages/tensorflow/python/util/traceback_utils.py?line=147'>148</a>\u001b[0m filtered_tb \u001b[39m=\u001b[39m \u001b[39mNone\u001b[39;00m\n\u001b[0;32m    <a href='file:///c%3A/Users/Adam/AppData/Local/Programs/Python/Python39/lib/site-packages/tensorflow/python/util/traceback_utils.py?line=148'>149</a>\u001b[0m \u001b[39mtry\u001b[39;00m:\n\u001b[1;32m--> <a href='file:///c%3A/Users/Adam/AppData/Local/Programs/Python/Python39/lib/site-packages/tensorflow/python/util/traceback_utils.py?line=149'>150</a>\u001b[0m   \u001b[39mreturn\u001b[39;00m fn(\u001b[39m*\u001b[39margs, \u001b[39m*\u001b[39m\u001b[39m*\u001b[39mkwargs)\n\u001b[0;32m    <a href='file:///c%3A/Users/Adam/AppData/Local/Programs/Python/Python39/lib/site-packages/tensorflow/python/util/traceback_utils.py?line=150'>151</a>\u001b[0m \u001b[39mexcept\u001b[39;00m \u001b[39mException\u001b[39;00m \u001b[39mas\u001b[39;00m e:\n\u001b[0;32m    <a href='file:///c%3A/Users/Adam/AppData/Local/Programs/Python/Python39/lib/site-packages/tensorflow/python/util/traceback_utils.py?line=151'>152</a>\u001b[0m   filtered_tb \u001b[39m=\u001b[39m _process_traceback_frames(e\u001b[39m.\u001b[39m__traceback__)\n",
      "File \u001b[1;32mc:\\Users\\Adam\\AppData\\Local\\Programs\\Python\\Python39\\lib\\site-packages\\tensorflow\\python\\eager\\def_function.py:915\u001b[0m, in \u001b[0;36mFunction.__call__\u001b[1;34m(self, *args, **kwds)\u001b[0m\n\u001b[0;32m    <a href='file:///c%3A/Users/Adam/AppData/Local/Programs/Python/Python39/lib/site-packages/tensorflow/python/eager/def_function.py?line=911'>912</a>\u001b[0m compiler \u001b[39m=\u001b[39m \u001b[39m\"\u001b[39m\u001b[39mxla\u001b[39m\u001b[39m\"\u001b[39m \u001b[39mif\u001b[39;00m \u001b[39mself\u001b[39m\u001b[39m.\u001b[39m_jit_compile \u001b[39melse\u001b[39;00m \u001b[39m\"\u001b[39m\u001b[39mnonXla\u001b[39m\u001b[39m\"\u001b[39m\n\u001b[0;32m    <a href='file:///c%3A/Users/Adam/AppData/Local/Programs/Python/Python39/lib/site-packages/tensorflow/python/eager/def_function.py?line=913'>914</a>\u001b[0m \u001b[39mwith\u001b[39;00m OptionalXlaContext(\u001b[39mself\u001b[39m\u001b[39m.\u001b[39m_jit_compile):\n\u001b[1;32m--> <a href='file:///c%3A/Users/Adam/AppData/Local/Programs/Python/Python39/lib/site-packages/tensorflow/python/eager/def_function.py?line=914'>915</a>\u001b[0m   result \u001b[39m=\u001b[39m \u001b[39mself\u001b[39m\u001b[39m.\u001b[39m_call(\u001b[39m*\u001b[39margs, \u001b[39m*\u001b[39m\u001b[39m*\u001b[39mkwds)\n\u001b[0;32m    <a href='file:///c%3A/Users/Adam/AppData/Local/Programs/Python/Python39/lib/site-packages/tensorflow/python/eager/def_function.py?line=916'>917</a>\u001b[0m new_tracing_count \u001b[39m=\u001b[39m \u001b[39mself\u001b[39m\u001b[39m.\u001b[39mexperimental_get_tracing_count()\n\u001b[0;32m    <a href='file:///c%3A/Users/Adam/AppData/Local/Programs/Python/Python39/lib/site-packages/tensorflow/python/eager/def_function.py?line=917'>918</a>\u001b[0m without_tracing \u001b[39m=\u001b[39m (tracing_count \u001b[39m==\u001b[39m new_tracing_count)\n",
      "File \u001b[1;32mc:\\Users\\Adam\\AppData\\Local\\Programs\\Python\\Python39\\lib\\site-packages\\tensorflow\\python\\eager\\def_function.py:947\u001b[0m, in \u001b[0;36mFunction._call\u001b[1;34m(self, *args, **kwds)\u001b[0m\n\u001b[0;32m    <a href='file:///c%3A/Users/Adam/AppData/Local/Programs/Python/Python39/lib/site-packages/tensorflow/python/eager/def_function.py?line=943'>944</a>\u001b[0m   \u001b[39mself\u001b[39m\u001b[39m.\u001b[39m_lock\u001b[39m.\u001b[39mrelease()\n\u001b[0;32m    <a href='file:///c%3A/Users/Adam/AppData/Local/Programs/Python/Python39/lib/site-packages/tensorflow/python/eager/def_function.py?line=944'>945</a>\u001b[0m   \u001b[39m# In this case we have created variables on the first call, so we run the\u001b[39;00m\n\u001b[0;32m    <a href='file:///c%3A/Users/Adam/AppData/Local/Programs/Python/Python39/lib/site-packages/tensorflow/python/eager/def_function.py?line=945'>946</a>\u001b[0m   \u001b[39m# defunned version which is guaranteed to never create variables.\u001b[39;00m\n\u001b[1;32m--> <a href='file:///c%3A/Users/Adam/AppData/Local/Programs/Python/Python39/lib/site-packages/tensorflow/python/eager/def_function.py?line=946'>947</a>\u001b[0m   \u001b[39mreturn\u001b[39;00m \u001b[39mself\u001b[39m\u001b[39m.\u001b[39m_stateless_fn(\u001b[39m*\u001b[39margs, \u001b[39m*\u001b[39m\u001b[39m*\u001b[39mkwds)  \u001b[39m# pylint: disable=not-callable\u001b[39;00m\n\u001b[0;32m    <a href='file:///c%3A/Users/Adam/AppData/Local/Programs/Python/Python39/lib/site-packages/tensorflow/python/eager/def_function.py?line=947'>948</a>\u001b[0m \u001b[39melif\u001b[39;00m \u001b[39mself\u001b[39m\u001b[39m.\u001b[39m_stateful_fn \u001b[39mis\u001b[39;00m \u001b[39mnot\u001b[39;00m \u001b[39mNone\u001b[39;00m:\n\u001b[0;32m    <a href='file:///c%3A/Users/Adam/AppData/Local/Programs/Python/Python39/lib/site-packages/tensorflow/python/eager/def_function.py?line=948'>949</a>\u001b[0m   \u001b[39m# Release the lock early so that multiple threads can perform the call\u001b[39;00m\n\u001b[0;32m    <a href='file:///c%3A/Users/Adam/AppData/Local/Programs/Python/Python39/lib/site-packages/tensorflow/python/eager/def_function.py?line=949'>950</a>\u001b[0m   \u001b[39m# in parallel.\u001b[39;00m\n\u001b[0;32m    <a href='file:///c%3A/Users/Adam/AppData/Local/Programs/Python/Python39/lib/site-packages/tensorflow/python/eager/def_function.py?line=950'>951</a>\u001b[0m   \u001b[39mself\u001b[39m\u001b[39m.\u001b[39m_lock\u001b[39m.\u001b[39mrelease()\n",
      "File \u001b[1;32mc:\\Users\\Adam\\AppData\\Local\\Programs\\Python\\Python39\\lib\\site-packages\\tensorflow\\python\\eager\\function.py:2956\u001b[0m, in \u001b[0;36mFunction.__call__\u001b[1;34m(self, *args, **kwargs)\u001b[0m\n\u001b[0;32m   <a href='file:///c%3A/Users/Adam/AppData/Local/Programs/Python/Python39/lib/site-packages/tensorflow/python/eager/function.py?line=2952'>2953</a>\u001b[0m \u001b[39mwith\u001b[39;00m \u001b[39mself\u001b[39m\u001b[39m.\u001b[39m_lock:\n\u001b[0;32m   <a href='file:///c%3A/Users/Adam/AppData/Local/Programs/Python/Python39/lib/site-packages/tensorflow/python/eager/function.py?line=2953'>2954</a>\u001b[0m   (graph_function,\n\u001b[0;32m   <a href='file:///c%3A/Users/Adam/AppData/Local/Programs/Python/Python39/lib/site-packages/tensorflow/python/eager/function.py?line=2954'>2955</a>\u001b[0m    filtered_flat_args) \u001b[39m=\u001b[39m \u001b[39mself\u001b[39m\u001b[39m.\u001b[39m_maybe_define_function(args, kwargs)\n\u001b[1;32m-> <a href='file:///c%3A/Users/Adam/AppData/Local/Programs/Python/Python39/lib/site-packages/tensorflow/python/eager/function.py?line=2955'>2956</a>\u001b[0m \u001b[39mreturn\u001b[39;00m graph_function\u001b[39m.\u001b[39;49m_call_flat(\n\u001b[0;32m   <a href='file:///c%3A/Users/Adam/AppData/Local/Programs/Python/Python39/lib/site-packages/tensorflow/python/eager/function.py?line=2956'>2957</a>\u001b[0m     filtered_flat_args, captured_inputs\u001b[39m=\u001b[39;49mgraph_function\u001b[39m.\u001b[39;49mcaptured_inputs)\n",
      "File \u001b[1;32mc:\\Users\\Adam\\AppData\\Local\\Programs\\Python\\Python39\\lib\\site-packages\\tensorflow\\python\\eager\\function.py:1853\u001b[0m, in \u001b[0;36mConcreteFunction._call_flat\u001b[1;34m(self, args, captured_inputs, cancellation_manager)\u001b[0m\n\u001b[0;32m   <a href='file:///c%3A/Users/Adam/AppData/Local/Programs/Python/Python39/lib/site-packages/tensorflow/python/eager/function.py?line=1848'>1849</a>\u001b[0m possible_gradient_type \u001b[39m=\u001b[39m gradients_util\u001b[39m.\u001b[39mPossibleTapeGradientTypes(args)\n\u001b[0;32m   <a href='file:///c%3A/Users/Adam/AppData/Local/Programs/Python/Python39/lib/site-packages/tensorflow/python/eager/function.py?line=1849'>1850</a>\u001b[0m \u001b[39mif\u001b[39;00m (possible_gradient_type \u001b[39m==\u001b[39m gradients_util\u001b[39m.\u001b[39mPOSSIBLE_GRADIENT_TYPES_NONE\n\u001b[0;32m   <a href='file:///c%3A/Users/Adam/AppData/Local/Programs/Python/Python39/lib/site-packages/tensorflow/python/eager/function.py?line=1850'>1851</a>\u001b[0m     \u001b[39mand\u001b[39;00m executing_eagerly):\n\u001b[0;32m   <a href='file:///c%3A/Users/Adam/AppData/Local/Programs/Python/Python39/lib/site-packages/tensorflow/python/eager/function.py?line=1851'>1852</a>\u001b[0m   \u001b[39m# No tape is watching; skip to running the function.\u001b[39;00m\n\u001b[1;32m-> <a href='file:///c%3A/Users/Adam/AppData/Local/Programs/Python/Python39/lib/site-packages/tensorflow/python/eager/function.py?line=1852'>1853</a>\u001b[0m   \u001b[39mreturn\u001b[39;00m \u001b[39mself\u001b[39m\u001b[39m.\u001b[39m_build_call_outputs(\u001b[39mself\u001b[39;49m\u001b[39m.\u001b[39;49m_inference_function\u001b[39m.\u001b[39;49mcall(\n\u001b[0;32m   <a href='file:///c%3A/Users/Adam/AppData/Local/Programs/Python/Python39/lib/site-packages/tensorflow/python/eager/function.py?line=1853'>1854</a>\u001b[0m       ctx, args, cancellation_manager\u001b[39m=\u001b[39;49mcancellation_manager))\n\u001b[0;32m   <a href='file:///c%3A/Users/Adam/AppData/Local/Programs/Python/Python39/lib/site-packages/tensorflow/python/eager/function.py?line=1854'>1855</a>\u001b[0m forward_backward \u001b[39m=\u001b[39m \u001b[39mself\u001b[39m\u001b[39m.\u001b[39m_select_forward_and_backward_functions(\n\u001b[0;32m   <a href='file:///c%3A/Users/Adam/AppData/Local/Programs/Python/Python39/lib/site-packages/tensorflow/python/eager/function.py?line=1855'>1856</a>\u001b[0m     args,\n\u001b[0;32m   <a href='file:///c%3A/Users/Adam/AppData/Local/Programs/Python/Python39/lib/site-packages/tensorflow/python/eager/function.py?line=1856'>1857</a>\u001b[0m     possible_gradient_type,\n\u001b[0;32m   <a href='file:///c%3A/Users/Adam/AppData/Local/Programs/Python/Python39/lib/site-packages/tensorflow/python/eager/function.py?line=1857'>1858</a>\u001b[0m     executing_eagerly)\n\u001b[0;32m   <a href='file:///c%3A/Users/Adam/AppData/Local/Programs/Python/Python39/lib/site-packages/tensorflow/python/eager/function.py?line=1858'>1859</a>\u001b[0m forward_function, args_with_tangents \u001b[39m=\u001b[39m forward_backward\u001b[39m.\u001b[39mforward()\n",
      "File \u001b[1;32mc:\\Users\\Adam\\AppData\\Local\\Programs\\Python\\Python39\\lib\\site-packages\\tensorflow\\python\\eager\\function.py:499\u001b[0m, in \u001b[0;36m_EagerDefinedFunction.call\u001b[1;34m(self, ctx, args, cancellation_manager)\u001b[0m\n\u001b[0;32m    <a href='file:///c%3A/Users/Adam/AppData/Local/Programs/Python/Python39/lib/site-packages/tensorflow/python/eager/function.py?line=496'>497</a>\u001b[0m \u001b[39mwith\u001b[39;00m _InterpolateFunctionError(\u001b[39mself\u001b[39m):\n\u001b[0;32m    <a href='file:///c%3A/Users/Adam/AppData/Local/Programs/Python/Python39/lib/site-packages/tensorflow/python/eager/function.py?line=497'>498</a>\u001b[0m   \u001b[39mif\u001b[39;00m cancellation_manager \u001b[39mis\u001b[39;00m \u001b[39mNone\u001b[39;00m:\n\u001b[1;32m--> <a href='file:///c%3A/Users/Adam/AppData/Local/Programs/Python/Python39/lib/site-packages/tensorflow/python/eager/function.py?line=498'>499</a>\u001b[0m     outputs \u001b[39m=\u001b[39m execute\u001b[39m.\u001b[39;49mexecute(\n\u001b[0;32m    <a href='file:///c%3A/Users/Adam/AppData/Local/Programs/Python/Python39/lib/site-packages/tensorflow/python/eager/function.py?line=499'>500</a>\u001b[0m         \u001b[39mstr\u001b[39;49m(\u001b[39mself\u001b[39;49m\u001b[39m.\u001b[39;49msignature\u001b[39m.\u001b[39;49mname),\n\u001b[0;32m    <a href='file:///c%3A/Users/Adam/AppData/Local/Programs/Python/Python39/lib/site-packages/tensorflow/python/eager/function.py?line=500'>501</a>\u001b[0m         num_outputs\u001b[39m=\u001b[39;49m\u001b[39mself\u001b[39;49m\u001b[39m.\u001b[39;49m_num_outputs,\n\u001b[0;32m    <a href='file:///c%3A/Users/Adam/AppData/Local/Programs/Python/Python39/lib/site-packages/tensorflow/python/eager/function.py?line=501'>502</a>\u001b[0m         inputs\u001b[39m=\u001b[39;49margs,\n\u001b[0;32m    <a href='file:///c%3A/Users/Adam/AppData/Local/Programs/Python/Python39/lib/site-packages/tensorflow/python/eager/function.py?line=502'>503</a>\u001b[0m         attrs\u001b[39m=\u001b[39;49mattrs,\n\u001b[0;32m    <a href='file:///c%3A/Users/Adam/AppData/Local/Programs/Python/Python39/lib/site-packages/tensorflow/python/eager/function.py?line=503'>504</a>\u001b[0m         ctx\u001b[39m=\u001b[39;49mctx)\n\u001b[0;32m    <a href='file:///c%3A/Users/Adam/AppData/Local/Programs/Python/Python39/lib/site-packages/tensorflow/python/eager/function.py?line=504'>505</a>\u001b[0m   \u001b[39melse\u001b[39;00m:\n\u001b[0;32m    <a href='file:///c%3A/Users/Adam/AppData/Local/Programs/Python/Python39/lib/site-packages/tensorflow/python/eager/function.py?line=505'>506</a>\u001b[0m     outputs \u001b[39m=\u001b[39m execute\u001b[39m.\u001b[39mexecute_with_cancellation(\n\u001b[0;32m    <a href='file:///c%3A/Users/Adam/AppData/Local/Programs/Python/Python39/lib/site-packages/tensorflow/python/eager/function.py?line=506'>507</a>\u001b[0m         \u001b[39mstr\u001b[39m(\u001b[39mself\u001b[39m\u001b[39m.\u001b[39msignature\u001b[39m.\u001b[39mname),\n\u001b[0;32m    <a href='file:///c%3A/Users/Adam/AppData/Local/Programs/Python/Python39/lib/site-packages/tensorflow/python/eager/function.py?line=507'>508</a>\u001b[0m         num_outputs\u001b[39m=\u001b[39m\u001b[39mself\u001b[39m\u001b[39m.\u001b[39m_num_outputs,\n\u001b[1;32m   (...)\u001b[0m\n\u001b[0;32m    <a href='file:///c%3A/Users/Adam/AppData/Local/Programs/Python/Python39/lib/site-packages/tensorflow/python/eager/function.py?line=510'>511</a>\u001b[0m         ctx\u001b[39m=\u001b[39mctx,\n\u001b[0;32m    <a href='file:///c%3A/Users/Adam/AppData/Local/Programs/Python/Python39/lib/site-packages/tensorflow/python/eager/function.py?line=511'>512</a>\u001b[0m         cancellation_manager\u001b[39m=\u001b[39mcancellation_manager)\n",
      "File \u001b[1;32mc:\\Users\\Adam\\AppData\\Local\\Programs\\Python\\Python39\\lib\\site-packages\\tensorflow\\python\\eager\\execute.py:54\u001b[0m, in \u001b[0;36mquick_execute\u001b[1;34m(op_name, num_outputs, inputs, attrs, ctx, name)\u001b[0m\n\u001b[0;32m     <a href='file:///c%3A/Users/Adam/AppData/Local/Programs/Python/Python39/lib/site-packages/tensorflow/python/eager/execute.py?line=51'>52</a>\u001b[0m \u001b[39mtry\u001b[39;00m:\n\u001b[0;32m     <a href='file:///c%3A/Users/Adam/AppData/Local/Programs/Python/Python39/lib/site-packages/tensorflow/python/eager/execute.py?line=52'>53</a>\u001b[0m   ctx\u001b[39m.\u001b[39mensure_initialized()\n\u001b[1;32m---> <a href='file:///c%3A/Users/Adam/AppData/Local/Programs/Python/Python39/lib/site-packages/tensorflow/python/eager/execute.py?line=53'>54</a>\u001b[0m   tensors \u001b[39m=\u001b[39m pywrap_tfe\u001b[39m.\u001b[39;49mTFE_Py_Execute(ctx\u001b[39m.\u001b[39;49m_handle, device_name, op_name,\n\u001b[0;32m     <a href='file:///c%3A/Users/Adam/AppData/Local/Programs/Python/Python39/lib/site-packages/tensorflow/python/eager/execute.py?line=54'>55</a>\u001b[0m                                       inputs, attrs, num_outputs)\n\u001b[0;32m     <a href='file:///c%3A/Users/Adam/AppData/Local/Programs/Python/Python39/lib/site-packages/tensorflow/python/eager/execute.py?line=55'>56</a>\u001b[0m \u001b[39mexcept\u001b[39;00m core\u001b[39m.\u001b[39m_NotOkStatusException \u001b[39mas\u001b[39;00m e:\n\u001b[0;32m     <a href='file:///c%3A/Users/Adam/AppData/Local/Programs/Python/Python39/lib/site-packages/tensorflow/python/eager/execute.py?line=56'>57</a>\u001b[0m   \u001b[39mif\u001b[39;00m name \u001b[39mis\u001b[39;00m \u001b[39mnot\u001b[39;00m \u001b[39mNone\u001b[39;00m:\n",
      "\u001b[1;31mKeyboardInterrupt\u001b[0m: "
     ]
    }
   ],
   "source": [
    "hist, curr_model = run_model('lstm1_emb', batch_size=32, epochs=30, \n",
    "                            optimizer='adam', loss='weighted_binary_crossentropy', verbose=1)\n",
    "curr_model.evaluate(x_test)\n",
    "visualise_history(hist)"
   ]
  },
  {
   "cell_type": "markdown",
   "metadata": {},
   "source": [
    "### Save/Load"
   ]
  },
  {
   "cell_type": "code",
   "execution_count": null,
   "metadata": {},
   "outputs": [],
   "source": [
    "curr_model.save(r'models/test.h5')"
   ]
  },
  {
   "cell_type": "code",
   "execution_count": null,
   "metadata": {},
   "outputs": [],
   "source": [
    "new_model = tf.keras.models.load_model(r'models/model_cnn_fasttext.h5')"
   ]
  },
  {
   "cell_type": "markdown",
   "metadata": {},
   "source": [
    "### LSTM"
   ]
  }
 ],
 "metadata": {
  "interpreter": {
   "hash": "8100bb27ef6f27bb6b63ba202e13f32f0dffed430e6a4d162d3986e448f218b2"
  },
  "kernelspec": {
   "display_name": "Python 3.9.8 64-bit",
   "language": "python",
   "name": "python3"
  },
  "language_info": {
   "codemirror_mode": {
    "name": "ipython",
    "version": 3
   },
   "file_extension": ".py",
   "mimetype": "text/x-python",
   "name": "python",
   "nbconvert_exporter": "python",
   "pygments_lexer": "ipython3",
   "version": "3.9.8"
  },
  "orig_nbformat": 4
 },
 "nbformat": 4,
 "nbformat_minor": 2
}
