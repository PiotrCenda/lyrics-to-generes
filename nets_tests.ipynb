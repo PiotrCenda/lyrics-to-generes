{
 "cells": [
  {
   "cell_type": "markdown",
   "metadata": {},
   "source": [
    "# Lyrics to genres multi-label classification"
   ]
  },
  {
   "cell_type": "code",
   "execution_count": 10,
   "metadata": {},
   "outputs": [],
   "source": [
    "import pandas as pd\n",
    "import matplotlib.pyplot as plt\n",
    "import numpy as np\n",
    "import re\n",
    "import random\n",
    "\n",
    "from gensim.models import KeyedVectors\n",
    "import numpy as np\n",
    "import tensorflow as tf\n",
    "import keras.backend as tfb\n",
    "\n",
    "from tensorflow.keras.models import Sequential\n",
    "from tensorflow.keras.layers import Dense, Embedding, GlobalMaxPool1D, MaxPooling1D, Dropout, Conv1D, LSTM, Bidirectional, SpatialDropout1D, Flatten\n",
    "import keras.backend as tfb\n",
    "from keras.utils.generic_utils import get_custom_objects\n",
    "from sklearn.metrics import multilabel_confusion_matrix\n",
    "from sklearn.model_selection import train_test_split\n",
    "from tensorflow.keras.preprocessing.text import Tokenizer\n",
    "from tensorflow.keras.preprocessing.sequence import pad_sequences"
   ]
  },
  {
   "cell_type": "code",
   "execution_count": 11,
   "metadata": {},
   "outputs": [],
   "source": [
    "POS_WEIGHT = 6  # multiplier for positive targets, needs to be tuned\n",
    "\n",
    "def weighted_binary_crossentropy(target, output):\n",
    "    \"\"\"\n",
    "    Weighted binary crossentropy between an output tensor\n",
    "    and a target tensor. POS_WEIGHT is used as a multiplier\n",
    "    for the positive targets.\n",
    "    \"\"\"\n",
    "    # transform back to logits\n",
    "    _epsilon = tfb._to_tensor(tfb.epsilon(), output.dtype.base_dtype)\n",
    "    output = tf.clip_by_value(output, _epsilon, 1 - _epsilon)\n",
    "    output = tf.math.log(output / (1 - output))\n",
    "    # compute weighted loss\n",
    "    target = tf.cast(target, tf.float32)\n",
    "    loss = tf.nn.weighted_cross_entropy_with_logits(labels=target,\n",
    "                                                    logits=output,\n",
    "                                                    pos_weight=POS_WEIGHT)\n",
    "    return tf.reduce_mean(loss, axis=-1)\n",
    "\n",
    "\n",
    "get_custom_objects().update({\"weighted_binary_crossentropy\": weighted_binary_crossentropy})\n",
    "\n",
    "\n",
    "def f1_score(y_true, y_logit):\n",
    "    \"\"\"\n",
    "    Calculate F1 score\n",
    "    y_true: true value\n",
    "    y_logit: predicted value\n",
    "    \"\"\"\n",
    "    true_positives = tfb.sum(tfb.round(tfb.clip(y_true * y_logit, 0, 1)))\n",
    "    possible_positives = tfb.sum(tfb.round(tfb.clip(y_true, 0, 1)))\n",
    "    recall = true_positives / (possible_positives + tfb.epsilon())\n",
    "    predicted_positives = tfb.sum(tfb.round(tfb.clip(y_logit, 0, 1)))\n",
    "    precision = true_positives / (predicted_positives + tfb.epsilon())\n",
    "    return (2 * precision * recall) / (precision + recall + tfb.epsilon())\n",
    "\n",
    "\n",
    "def set_labels(x):\n",
    "    labels = np.array([0 for i in range(len(unique_genres))])\n",
    "\n",
    "    for item in x.split(\",\"):\n",
    "        labels[list(unique_genres).index(item)] = 1\n",
    "    \n",
    "    return np.array(labels)\n",
    "\n",
    "\n",
    "def csv_to_train_val_data(path:str, split_rate = 0.15):\n",
    "    # read data\n",
    "    data = pd.read_csv(path)\n",
    "\n",
    "    # fix data\n",
    "    data[\"genre\"] = data[\"genre\"].apply(lambda x: x.replace(\"\\n\",\" \"))\n",
    "    data[\"labels\"] = data[\"genre\"].apply(lambda x: set_labels(x))\n",
    "\n",
    "    # data splitting\n",
    "    x_train, x_test, y_train, y_test = train_test_split(data[\"lyrics\"], data[\"labels\"], test_size=split_rate, shuffle=True)\n",
    "\n",
    "    y_train = np.stack(y_train.values).astype('float32')\n",
    "    y_test = np.stack(y_test.values).astype('float32')\n",
    "\n",
    "    # tokenize data\n",
    "    tokenizer = Tokenizer(lower=True, num_words=max_words)\n",
    "    tokenizer.fit_on_texts(list(x_train) + list(x_test))\n",
    "\n",
    "    x_train = tokenizer.texts_to_sequences(x_train)\n",
    "    x_test = tokenizer.texts_to_sequences(x_test)\n",
    "\n",
    "    x_train = pad_sequences(x_train, maxlen=maxlen)\n",
    "    x_test = pad_sequences(x_test, maxlen=maxlen)\n",
    "\n",
    "    print(f'X train shape: {x_train.shape}')\n",
    "    print(f'X test shape: {x_test.shape}')\n",
    "    print(f'Y train shape: {y_train.shape}')\n",
    "    print(f'Y test shape: {y_test.shape}')\n",
    "\n",
    "    return x_train, x_test, y_train, y_test, tokenizer\n",
    "\n",
    "\n",
    "def visualise_history(hist):\n",
    "    measures = ['loss', 'accuracy', 'f1_score']\n",
    "\n",
    "    fig, ax = plt.subplots(3, figsize= (12,12))\n",
    "    \n",
    "    for i, measure in enumerate(measures):\n",
    "        val_measure = 'val_' + measure\n",
    "        ax[i].plot(hist.history[measure], label=measure)\n",
    "        ax[i].set_title(measure)\n",
    "        ax[i].plot(hist.history[val_measure], label=val_measure)\n",
    "        ax[i].set_title(val_measure)\n",
    "        ax[i].legend()\n",
    "        ax[i].set_ylabel(measure)\n",
    "    plt.xlabel('epochs')\n",
    "    plt.show()\n",
    "    \n",
    "\n",
    "def run_model(model_name, batch_size=64, epochs=5, optimizer='adam', loss='weighted_binary_crossentropy', verbose=1):\n",
    "    model = models_dict[model_name]\n",
    "    model.compile(optimizer=optimizer, \n",
    "            loss=loss, \n",
    "            metrics=[f1_score, \"accuracy\", tf.keras.metrics.AUC()])\n",
    "    hist = model.fit(x_train, y_train, batch_size=batch_size, epochs=epochs, validation_data=(x_test, y_test), verbose=verbose)\n",
    "    \n",
    "    return hist, model\n",
    "        \n",
    "\n",
    "def create_confusion_matrix(model, threshold=0.5):\n",
    "    y_pred = model.predict(x_test)\n",
    "\n",
    "    y_pred[y_pred > threshold] = 1\n",
    "    y_pred[y_pred <= threshold] = 0\n",
    "\n",
    "    return multilabel_confusion_matrix(y_test, y_pred)\n",
    "\n",
    "\n",
    "def calculate_confusion_ratio(matrix):\n",
    "    ok = sum([matrix[i, 0, 0] + matrix[i, 1, 1] for i in range(matrix.shape[0])])\n",
    "    bad = sum([matrix[i, 1, 0] + matrix[i, 0, 1] for i in range(matrix.shape[0])])\n",
    "    \n",
    "    print(f\"percent of ok: {ok/(ok+bad)*100}%\")\n",
    "    \n",
    "    return ok/(ok+bad)*100\n",
    "    \n",
    "    \n",
    "def get_new_genres(df):\n",
    "    genres = dict()\n",
    "    \n",
    "    for row in df.genre:\n",
    "        for item in row.split(\",\"):\n",
    "            if item in genres:\n",
    "                genres[item] += 1\n",
    "            else:\n",
    "                genres[item] = 1\n",
    "    return genres\n",
    "\n",
    "    \n",
    "def plot_hist(df):\n",
    "    genres = get_new_genres(df)\n",
    "\n",
    "    plt.figure(dpi=250)\n",
    "    plt.bar(genres.keys(), genres.values())\n",
    "    plt.title(\"Number of genre occurances\")\n",
    "    plt.ylabel ('Number of occurances')\n",
    "    plt.xlabel ('Genre')\n",
    "    plt.xticks(list(genres.keys()), rotation=75, fontsize=3)\n",
    "    plt.show()\n",
    "    \n",
    "    \n",
    "def clean_text(text):\n",
    "    text = text.lower()\n",
    "    text = re.sub(r\"can't\", \"can not\", text)\n",
    "    text = re.sub(r\"n\\'t\", \" not\", text)\n",
    "    text = re.sub(r\"\\'re\", \" are\", text)\n",
    "    text = re.sub(r\"\\'s\", \" is\", text)\n",
    "    text = re.sub(r\"\\'d\", \" would\", text)\n",
    "    text = re.sub(r\"\\'ll\", \" will\", text)\n",
    "    text = re.sub(r\"\\'t\", \" not\", text)\n",
    "    text = re.sub(r\"\\'ve\", \" have\", text)\n",
    "    text = re.sub(r\"\\'m\", \" am\", text)\n",
    "    text = re.sub(r\"\\'scuse\", \" excuse \", text)\n",
    "    text = re.sub('\\W', ' ', text)\n",
    "    text = re.sub('\\s+', ' ', text)\n",
    "    text = text.strip(' ')\n",
    "    return text\n",
    "\n",
    "def remove_punctuation(text): \n",
    "    text = re.sub(r'[?|!|\\'|\"|#]', r'',text)\n",
    "    text = re.sub(r'[.|,|)|(|\\|/]', r' ',text)\n",
    "    text = text.strip()\n",
    "    text = text.replace(\"\\n\",\" \")\n",
    "    return text\n",
    "\n",
    "def remove_numbers(text):\n",
    "    result = \"\"\n",
    "    \n",
    "    for word in text.split():\n",
    "        alpha_word = re.sub('[^a-z A-Z]+', '', word)\n",
    "        result += alpha_word\n",
    "        result += \" \"\n",
    "    result = result.strip()\n",
    "    \n",
    "    return result\n",
    "\n",
    "def ultimate_text_cleaning(text):\n",
    "    text = clean_text(text)\n",
    "    text = remove_punctuation(text)\n",
    "    text = remove_numbers(text)\n",
    "    text = re.sub('\\s+', ' ', text)\n",
    "    text = text.strip(' ')\n",
    "    return text\n",
    "\n",
    "\n",
    "def save_hist(hist, hist_filename):\n",
    "    hist_df = pd.DataFrame(hist.history) \n",
    "\n",
    "    hist_csv_file = r\"model_logging/\" + hist_filename + r\".csv\"\n",
    "\n",
    "    with open(hist_csv_file, mode='w') as f:\n",
    "        hist_df.to_csv(f)\n",
    "        \n",
    "\n",
    "def save_results(model, results_filename):\n",
    "    matrix = create_confusion_matrix(model, threshold=0.5)\n",
    "    result = calculate_confusion_ratio(matrix)\n",
    "    \n",
    "    result_file = r\"model_logging/\" + results_filename + r\".txt\"\n",
    "\n",
    "    with open(result_file, mode='w') as f:\n",
    "        f.write(str(result))\n",
    "        f.write(\"\\n\\n\")\n",
    "        f.write(str(matrix))"
   ]
  },
  {
   "cell_type": "markdown",
   "metadata": {},
   "source": [
    "### LOAD DATA"
   ]
  },
  {
   "cell_type": "code",
   "execution_count": 19,
   "metadata": {},
   "outputs": [
    {
     "name": "stdout",
     "output_type": "stream",
     "text": [
      "num_classes: 11\n"
     ]
    }
   ],
   "source": [
    "# data_path = r'data_cleaned/data_12labels_mulitlabel_lyrics_cleaned.csv'\n",
    "data_path = r'data_cleaned/data_12labels_mulitlabel_lyrics_cleaned2.csv'\n",
    "\n",
    "data = pd.read_csv(data_path)\n",
    "# data[\"lyrics\"] = data[\"lyrics\"].apply(lambda x: ultimate_text_cleaning(x))\n",
    "\n",
    "unique_genres = set()\n",
    "\n",
    "for row in data.genre:\n",
    "    for item in row.split(\",\"):\n",
    "        unique_genres.add(item)\n",
    "\n",
    "num_classes = len(unique_genres)\n",
    "print(f\"num_classes: {num_classes}\")"
   ]
  },
  {
   "cell_type": "code",
   "execution_count": 20,
   "metadata": {},
   "outputs": [],
   "source": [
    "# data.to_csv(r'data_cleaned/data_12labels_mulitlabel_lyrics_cleaned2.csv', index=False)"
   ]
  },
  {
   "cell_type": "code",
   "execution_count": 21,
   "metadata": {},
   "outputs": [
    {
     "name": "stdout",
     "output_type": "stream",
     "text": [
      "Lenght of data: 145305\n"
     ]
    }
   ],
   "source": [
    "print(f\"Lenght of data: {len(data.index)}\")"
   ]
  },
  {
   "cell_type": "code",
   "execution_count": 22,
   "metadata": {},
   "outputs": [
    {
     "data": {
      "text/html": [
       "<div>\n",
       "<style scoped>\n",
       "    .dataframe tbody tr th:only-of-type {\n",
       "        vertical-align: middle;\n",
       "    }\n",
       "\n",
       "    .dataframe tbody tr th {\n",
       "        vertical-align: top;\n",
       "    }\n",
       "\n",
       "    .dataframe thead th {\n",
       "        text-align: right;\n",
       "    }\n",
       "</style>\n",
       "<table border=\"1\" class=\"dataframe\">\n",
       "  <thead>\n",
       "    <tr style=\"text-align: right;\">\n",
       "      <th></th>\n",
       "      <th>artist</th>\n",
       "      <th>track</th>\n",
       "      <th>genre</th>\n",
       "      <th>lyrics</th>\n",
       "      <th>lyrics_len</th>\n",
       "      <th>nb_of_genres</th>\n",
       "    </tr>\n",
       "  </thead>\n",
       "  <tbody>\n",
       "    <tr>\n",
       "      <th>0</th>\n",
       "      <td>The Chameleons</td>\n",
       "      <td>Nostalgia</td>\n",
       "      <td>punk</td>\n",
       "      <td>absorbing your words battles raging within me ...</td>\n",
       "      <td>192</td>\n",
       "      <td>1</td>\n",
       "    </tr>\n",
       "    <tr>\n",
       "      <th>1</th>\n",
       "      <td>The Cheetah Girls</td>\n",
       "      <td>One World</td>\n",
       "      <td>experimental,pop</td>\n",
       "      <td>ch ch ch ch ka ch ch ch ch ka hey ch ch ch ch ...</td>\n",
       "      <td>157</td>\n",
       "      <td>2</td>\n",
       "    </tr>\n",
       "    <tr>\n",
       "      <th>2</th>\n",
       "      <td>Michael Kiwanuka</td>\n",
       "      <td>Tell Me a Tale</td>\n",
       "      <td>r&amp;b</td>\n",
       "      <td>tell me a tale that always was sing me a song ...</td>\n",
       "      <td>196</td>\n",
       "      <td>1</td>\n",
       "    </tr>\n",
       "    <tr>\n",
       "      <th>3</th>\n",
       "      <td>Three Days Grace</td>\n",
       "      <td>Sign of the Times</td>\n",
       "      <td>metal,rock</td>\n",
       "      <td>this is a sign of the times another mountain t...</td>\n",
       "      <td>193</td>\n",
       "      <td>2</td>\n",
       "    </tr>\n",
       "    <tr>\n",
       "      <th>4</th>\n",
       "      <td>La Roux</td>\n",
       "      <td>In for the Kill</td>\n",
       "      <td>electronic,pop</td>\n",
       "      <td>we can fight our desires but when we start mak...</td>\n",
       "      <td>196</td>\n",
       "      <td>2</td>\n",
       "    </tr>\n",
       "  </tbody>\n",
       "</table>\n",
       "</div>"
      ],
      "text/plain": [
       "              artist              track             genre  \\\n",
       "0     The Chameleons          Nostalgia              punk   \n",
       "1  The Cheetah Girls          One World  experimental,pop   \n",
       "2   Michael Kiwanuka     Tell Me a Tale               r&b   \n",
       "3   Three Days Grace  Sign of the Times        metal,rock   \n",
       "4            La Roux    In for the Kill    electronic,pop   \n",
       "\n",
       "                                              lyrics  lyrics_len  nb_of_genres  \n",
       "0  absorbing your words battles raging within me ...         192             1  \n",
       "1  ch ch ch ch ka ch ch ch ch ka hey ch ch ch ch ...         157             2  \n",
       "2  tell me a tale that always was sing me a song ...         196             1  \n",
       "3  this is a sign of the times another mountain t...         193             2  \n",
       "4  we can fight our desires but when we start mak...         196             2  "
      ]
     },
     "execution_count": 22,
     "metadata": {},
     "output_type": "execute_result"
    }
   ],
   "source": [
    "data.head()"
   ]
  },
  {
   "cell_type": "code",
   "execution_count": 23,
   "metadata": {},
   "outputs": [
    {
     "data": {
      "image/png": "[encoded data removed]",
      "text/plain": [
       "<Figure size 900x600 with 1 Axes>"
      ]
     },
     "metadata": {
      "needs_background": "light"
     },
     "output_type": "display_data"
    }
   ],
   "source": [
    "genres = get_new_genres(data)\n",
    "\n",
    "plt.figure(dpi=150)\n",
    "plt.bar(genres.keys(), genres.values())\n",
    "plt.title(\"Number of genre occurances\")\n",
    "plt.ylabel('Number of occurances')\n",
    "plt.xlabel('Genre')\n",
    "plt.xticks(list(genres.keys()), rotation=45, fontsize=7)\n",
    "plt.show()"
   ]
  },
  {
   "cell_type": "markdown",
   "metadata": {},
   "source": [
    "### STARTING PARAMETERS"
   ]
  },
  {
   "cell_type": "code",
   "execution_count": 27,
   "metadata": {},
   "outputs": [],
   "source": [
    "max_words = 50_000\n",
    "maxlen = 200\n",
    "embedding_dim = 300"
   ]
  },
  {
   "cell_type": "markdown",
   "metadata": {},
   "source": [
    "### Prepare dataset"
   ]
  },
  {
   "cell_type": "code",
   "execution_count": 28,
   "metadata": {},
   "outputs": [
    {
     "name": "stdout",
     "output_type": "stream",
     "text": [
      "X train shape: (130774, 200)\n",
      "X test shape: (14531, 200)\n",
      "Y train shape: (130774, 11)\n",
      "Y test shape: (14531, 11)\n"
     ]
    }
   ],
   "source": [
    "x_train, x_test, y_train, y_test, tokenizer = csv_to_train_val_data(path=data_path, split_rate=0.1)"
   ]
  },
  {
   "cell_type": "markdown",
   "metadata": {},
   "source": [
    "### FASTTEXT LOAD"
   ]
  },
  {
   "cell_type": "code",
   "execution_count": 29,
   "metadata": {},
   "outputs": [],
   "source": [
    "embedding_pretrained = [r\"pretrained_embeddings/wiki-news-300d-1M.vec\", \n",
    "                        r\"pretrained_embeddings/wiki-news-300d-1M-subword.vec\", \n",
    "                        r\"pretrained_embeddings/crawl-300d-2M.vec\", \n",
    "                        r\"pretrained_embeddings/crawl-300d-2M-subword.vec\"]\n",
    "\n",
    "fasttext = KeyedVectors.load_word2vec_format(embedding_pretrained[3], binary=False, encoding='utf8')\n"
   ]
  },
  {
   "cell_type": "markdown",
   "metadata": {},
   "source": [
    "### EMBEDDING"
   ]
  },
  {
   "cell_type": "code",
   "execution_count": 34,
   "metadata": {},
   "outputs": [
    {
     "name": "stdout",
     "output_type": "stream",
     "text": [
      "Number of unknown words inizialized randomly: 71971\n"
     ]
    }
   ],
   "source": [
    "\n",
    "vocab_size = len(tokenizer.word_index) + 1\n",
    "nb_of_unknown_words = 0\n",
    "\n",
    "weight_matrix = np.zeros((vocab_size, embedding_dim))\n",
    "words_unknown = dict()\n",
    "\n",
    "for word, i in tokenizer.word_index.items():\n",
    "    try:\n",
    "        embedding_vector = fasttext[word]\n",
    "        weight_matrix[i] = embedding_vector\n",
    "    except KeyError:\n",
    "        if word in words_unknown.keys():\n",
    "            weight_matrix[i] = words_unknown[word]\n",
    "        else:\n",
    "            words_unknown[word] = np.random.uniform(-5, 5, embedding_dim)\n",
    "            weight_matrix[i] = words_unknown[word]\n",
    "            nb_of_unknown_words += 1\n",
    "        \n",
    "print(f\"Number of unknown words inizialized randomly: {nb_of_unknown_words}\")   "
   ]
  },
  {
   "cell_type": "markdown",
   "metadata": {},
   "source": [
    "### Check GPU availability"
   ]
  },
  {
   "cell_type": "code",
   "execution_count": 35,
   "metadata": {},
   "outputs": [
    {
     "name": "stdout",
     "output_type": "stream",
     "text": [
      "Num GPUs Available:  1\n"
     ]
    }
   ],
   "source": [
    "print(\"Num GPUs Available: \", len(tf.config.list_physical_devices('GPU')))"
   ]
  },
  {
   "cell_type": "markdown",
   "metadata": {},
   "source": [
    "### DECLARE MODELS IN DICTIONARY"
   ]
  },
  {
   "cell_type": "code",
   "execution_count": 39,
   "metadata": {},
   "outputs": [],
   "source": [
    "models_dict = { \n",
    "    # \"cnn1\": Sequential([\n",
    "    #                 Embedding(input_dim=vocab_size, output_dim=embedding_dim, input_length=maxlen, weights=[weight_matrix], trainable=False),\n",
    "    #                 SpatialDropout1D(0.2),\n",
    "    #                 Conv1D(input_shape=(maxlen, embedding_dim), filters=64, kernel_size=3, activation='tanh', kernel_regularizer='l1_l2'),\n",
    "    #                 MaxPooling1D(),\n",
    "    #                 Conv1D(filters=64, kernel_size=3, activation='tanh', kernel_regularizer='l1_l2'),\n",
    "    #                 MaxPooling1D(),\n",
    "    #                 Flatten(),\n",
    "    #                 Dropout(0.3),\n",
    "    #                 Dense(100, activation='tanh', kernel_regularizer='l1_l2'),\n",
    "    #                 Dropout(0.3),\n",
    "    #                 Dense(num_classes, activation=\"sigmoid\")\n",
    "    #                 ]),\n",
    "    # \"cnn2\": Sequential([\n",
    "    #                 Embedding(input_dim=vocab_size, output_dim=embedding_dim, input_length=maxlen, weights=[weight_matrix], trainable=False),\n",
    "    #                 Conv1D(input_shape=(maxlen, embedding_dim), filters=32, kernel_size=3, activation='tanh', kernel_regularizer='l1_l2'),\n",
    "    #                 MaxPooling1D(),\n",
    "    #                 Conv1D(filters=64, kernel_size=3, activation='tanh', kernel_regularizer='l1_l2'),\n",
    "    #                 MaxPooling1D(),\n",
    "    #                 Conv1D(filters=128, kernel_size=3, activation='tanh', kernel_regularizer='l1_l2'),\n",
    "    #                 MaxPooling1D(),\n",
    "    #                 Flatten(),\n",
    "    #                 Dropout(0.3),\n",
    "    #                 Dense(100, kernel_regularizer='l1_l2', activation='tanh'),\n",
    "    #                 Dropout(0.3),\n",
    "    #                 Dense(num_classes, activation=\"sigmoid\")\n",
    "    #                 ]),\n",
    "    \"lstm1\": Sequential([\n",
    "                    Embedding(input_dim=vocab_size, output_dim=embedding_dim, input_length=maxlen, weights=[weight_matrix], trainable=False),\n",
    "                    Bidirectional(LSTM(units=64, return_sequences=True, activation='tanh', recurrent_activation='sigmoid', \n",
    "                                        recurrent_dropout=0.0, dropout=0.3, kernel_initializer='glorot_uniform'),\n",
    "                                    merge_mode='concat'),\n",
    "                    Dropout(0.3),\n",
    "                    GlobalMaxPool1D(),\n",
    "                    Dense(num_classes, activation=\"sigmoid\")\n",
    "                    ]),\n",
    "    \"lstm2\": Sequential([\n",
    "                    Embedding(input_dim=vocab_size, output_dim=embedding_dim, input_length=maxlen, weights=[weight_matrix], trainable=False),\n",
    "                    Bidirectional(LSTM(units=64, return_sequences=True, activation='tanh', recurrent_activation='sigmoid', \n",
    "                                        recurrent_dropout=0.0, dropout=0.3, kernel_initializer='glorot_uniform'),\n",
    "                                    merge_mode='concat'),\n",
    "                    Bidirectional(LSTM(units=64, return_sequences=True, activation='tanh', recurrent_activation='sigmoid', \n",
    "                                        recurrent_dropout=0.0, dropout=0.3, kernel_initializer='glorot_uniform'),\n",
    "                                    merge_mode='concat'),\n",
    "                    Dropout(0.3),\n",
    "                    GlobalMaxPool1D(),\n",
    "                    Dense(num_classes, activation=\"sigmoid\")\n",
    "                    ]),\n",
    "    \"lstm3\": Sequential([\n",
    "                    Embedding(input_dim=vocab_size, output_dim=embedding_dim, input_length=maxlen, weights=[weight_matrix], trainable=False),\n",
    "                    Bidirectional(LSTM(units=128, return_sequences=True, activation='tanh', recurrent_activation='sigmoid', \n",
    "                                        recurrent_dropout=0.0, dropout=0.3, kernel_initializer='glorot_uniform'),\n",
    "                                    merge_mode='concat'),\n",
    "                    Dropout(0.3),\n",
    "                    GlobalMaxPool1D(),\n",
    "                    Dense(num_classes, activation=\"sigmoid\")\n",
    "                    ]),\n",
    "    \"lstm4\": Sequential([\n",
    "                    Embedding(input_dim=vocab_size, output_dim=embedding_dim, input_length=maxlen, weights=[weight_matrix], trainable=False),\n",
    "                    Bidirectional(LSTM(units=128, return_sequences=True, activation='tanh', recurrent_activation='sigmoid', \n",
    "                                        recurrent_dropout=0.0, dropout=0.3, kernel_initializer='glorot_uniform'),\n",
    "                                    merge_mode='concat'),\n",
    "                    Bidirectional(LSTM(units=128, return_sequences=True, activation='tanh', recurrent_activation='sigmoid', \n",
    "                                        recurrent_dropout=0.0, dropout=0.3, kernel_initializer='glorot_uniform'),\n",
    "                                    merge_mode='concat'),\n",
    "                    Dropout(0.3),\n",
    "                    GlobalMaxPool1D(),\n",
    "                    Dense(num_classes, activation=\"sigmoid\")\n",
    "                    ]),\n",
    "    \"lstm5\": Sequential([\n",
    "                    Embedding(input_dim=vocab_size, output_dim=embedding_dim, input_length=maxlen, weights=[weight_matrix], trainable=False),\n",
    "                    Bidirectional(LSTM(units=128, return_sequences=True, activation='tanh', recurrent_activation='sigmoid', \n",
    "                                        recurrent_dropout=0.0, dropout=0.3, kernel_initializer='glorot_uniform'),\n",
    "                                    merge_mode='concat'),\n",
    "                    Dropout(0.3),\n",
    "                    GlobalMaxPool1D(),\n",
    "                    Dense(50, activation=\"relu\", kernel_regularizer=\"l1_l2\"),\n",
    "                    Dropout(0.1),\n",
    "                    Dense(num_classes, activation=\"sigmoid\")\n",
    "                    ]),\n",
    "    \"lstm6\": Sequential([\n",
    "                    Embedding(input_dim=vocab_size, output_dim=embedding_dim, input_length=maxlen, weights=[weight_matrix], trainable=False),\n",
    "                    Bidirectional(LSTM(units=128, return_sequences=True, activation='tanh', recurrent_activation='sigmoid', \n",
    "                                        recurrent_dropout=0.0, dropout=0.3, kernel_initializer='glorot_uniform'),\n",
    "                                    merge_mode='concat'),\n",
    "                    Bidirectional(LSTM(units=128, return_sequences=True, activation='tanh', recurrent_activation='sigmoid', \n",
    "                                        recurrent_dropout=0.0, dropout=0.3, kernel_initializer='glorot_uniform'),\n",
    "                                    merge_mode='concat'),\n",
    "                    Dropout(0.3),\n",
    "                    GlobalMaxPool1D(),\n",
    "                    Dense(50, activation=\"relu\", kernel_regularizer=\"l1_l2\"),\n",
    "                    Dropout(0.1),\n",
    "                    Dense(num_classes, activation=\"sigmoid\")\n",
    "                    ])\n",
    "}"
   ]
  },
  {
   "cell_type": "markdown",
   "metadata": {},
   "source": [
    "### RUNNING THE NETS"
   ]
  },
  {
   "cell_type": "code",
   "execution_count": 40,
   "metadata": {},
   "outputs": [
    {
     "name": "stdout",
     "output_type": "stream",
     "text": [
      "\n",
      "\n",
      "Now calculation model: lstm1...\n",
      "\n",
      "\n",
      "Epoch 1/30\n",
      " 666/2044 [========>.....................] - ETA: 38s - loss: 1.0763 - f1_score: 0.2731 - accuracy: 0.2149 - auc: 0.6378"
     ]
    }
   ],
   "source": [
    "for m in models_dict.keys():\n",
    "    print(f\"\\n\\nNow calculation model: {m}...\\n\\n\")\n",
    "    \n",
    "    hist, model = run_model(m, batch_size=64, epochs=30, \n",
    "                            optimizer=\"adam\", loss=\"weighted_binary_crossentropy\", verbose=1)\n",
    "    \n",
    "    model_filename = r\"models/\" + m + r\".h5\"\n",
    "    model.save(model_filename)\n",
    "    \n",
    "    save_hist(hist, m)\n",
    "    save_results(model, m)\n",
    "    visualise_history(hist)\n",
    "    "
   ]
  },
  {
   "cell_type": "markdown",
   "metadata": {},
   "source": [
    "### Save/Load"
   ]
  },
  {
   "cell_type": "code",
   "execution_count": null,
   "metadata": {},
   "outputs": [],
   "source": [
    "# curr_model.save(r'models/lstm_fasttext_1.h5')"
   ]
  },
  {
   "cell_type": "code",
   "execution_count": null,
   "metadata": {},
   "outputs": [],
   "source": [
    "# new_model = tf.keras.models.load_model(r'models/lstm_fasttext_1.h5')"
   ]
  },
  {
   "cell_type": "markdown",
   "metadata": {},
   "source": [
    "### Check"
   ]
  },
  {
   "cell_type": "code",
   "execution_count": null,
   "metadata": {},
   "outputs": [],
   "source": [
    "matrix = create_confusion_matrix(model, threshold=0.5)"
   ]
  },
  {
   "cell_type": "code",
   "execution_count": null,
   "metadata": {},
   "outputs": [],
   "source": [
    "calculate_confusion_ratio(matrix)"
   ]
  },
  {
   "cell_type": "code",
   "execution_count": null,
   "metadata": {},
   "outputs": [],
   "source": [
    "y_pred = model.predict(x_test)"
   ]
  },
  {
   "cell_type": "code",
   "execution_count": 26,
   "metadata": {},
   "outputs": [
    {
     "ename": "NameError",
     "evalue": "name 'y_pred' is not defined",
     "output_type": "error",
     "traceback": [
      "\u001b[1;31m---------------------------------------------------------------------------\u001b[0m",
      "\u001b[1;31mNameError\u001b[0m                                 Traceback (most recent call last)",
      "\u001b[1;32mc:\\Piotrek\\kod\\lyrics-to-generes\\nets_tests.ipynb Cell 35'\u001b[0m in \u001b[0;36m<cell line: 7>\u001b[1;34m()\u001b[0m\n\u001b[0;32m      <a href='vscode-notebook-cell:/c%3A/Piotrek/kod/lyrics-to-generes/nets_tests.ipynb#ch0000042?line=4'>5</a>\u001b[0m         unique_genres\u001b[39m.\u001b[39madd(item)\n\u001b[0;32m      <a href='vscode-notebook-cell:/c%3A/Piotrek/kod/lyrics-to-generes/nets_tests.ipynb#ch0000042?line=6'>7</a>\u001b[0m \u001b[39mfor\u001b[39;00m k \u001b[39min\u001b[39;00m random\u001b[39m.\u001b[39msample(\u001b[39mrange\u001b[39m(\u001b[39m0\u001b[39m, \u001b[39mlen\u001b[39m(x_test)), \u001b[39m100\u001b[39m):\n\u001b[1;32m----> <a href='vscode-notebook-cell:/c%3A/Piotrek/kod/lyrics-to-generes/nets_tests.ipynb#ch0000042?line=7'>8</a>\u001b[0m   indexes_pred \u001b[39m=\u001b[39m np\u001b[39m.\u001b[39margwhere(y_pred[k] \u001b[39m>\u001b[39m\u001b[39m=\u001b[39m \u001b[39m0.5\u001b[39m)\n\u001b[0;32m      <a href='vscode-notebook-cell:/c%3A/Piotrek/kod/lyrics-to-generes/nets_tests.ipynb#ch0000042?line=8'>9</a>\u001b[0m   indexes_true \u001b[39m=\u001b[39m np\u001b[39m.\u001b[39margwhere(y_test[k] \u001b[39m==\u001b[39m \u001b[39m1\u001b[39m)\n\u001b[0;32m     <a href='vscode-notebook-cell:/c%3A/Piotrek/kod/lyrics-to-generes/nets_tests.ipynb#ch0000042?line=10'>11</a>\u001b[0m   indexes_pred\u001b[39m.\u001b[39mreshape((\u001b[39m1\u001b[39m,\u001b[39m-\u001b[39m\u001b[39m1\u001b[39m))\n",
      "\u001b[1;31mNameError\u001b[0m: name 'y_pred' is not defined"
     ]
    }
   ],
   "source": [
    "unique_genres = set()\n",
    "\n",
    "for row in data.genre:\n",
    "    for item in row.split(\",\"):\n",
    "        unique_genres.add(item)\n",
    "\n",
    "for k in random.sample(range(0, len(x_test)), 100):\n",
    "  indexes_pred = np.argwhere(y_pred[k] >= 0.5)\n",
    "  indexes_true = np.argwhere(y_test[k] == 1)\n",
    "\n",
    "  indexes_pred.reshape((1,-1))\n",
    "  indexes_true.reshape((1,-1))\n",
    "\n",
    "  for i in indexes_pred:\n",
    "    print(list(unique_genres)[i[0]])\n",
    "\n",
    "  print(y_pred[k])\n",
    "  print(\"\\n\")\n",
    "\n",
    "  for i in indexes_true:\n",
    "    print(list(unique_genres)[i[0]])\n",
    "\n",
    "  print(y_test[k])"
   ]
  }
 ],
 "metadata": {
  "interpreter": {
   "hash": "8100bb27ef6f27bb6b63ba202e13f32f0dffed430e6a4d162d3986e448f218b2"
  },
  "kernelspec": {
   "display_name": "Python 3.9.8 64-bit",
   "language": "python",
   "name": "python3"
  },
  "language_info": {
   "codemirror_mode": {
    "name": "ipython",
    "version": 3
   },
   "file_extension": ".py",
   "mimetype": "text/x-python",
   "name": "python",
   "nbconvert_exporter": "python",
   "pygments_lexer": "ipython3",
   "version": "3.9.8"
  },
  "orig_nbformat": 4
 },
 "nbformat": 4,
 "nbformat_minor": 2
}
